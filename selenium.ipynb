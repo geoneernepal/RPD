{
 "cells": [
  {
   "cell_type": "code",
   "execution_count": 1,
   "id": "853b3ead",
   "metadata": {},
   "outputs": [],
   "source": [
    "import pandas as pd\n",
    "from selenium import webdriver\n",
    "from bs4 import BeautifulSoup"
   ]
  },
  {
   "cell_type": "code",
   "execution_count": 2,
   "id": "5a0c3154",
   "metadata": {},
   "outputs": [],
   "source": [
    "# url = 'https://pubs.rsc.org/en/content/articlelanding/2020/na/d0na00118j'\n",
    "# url = 'http://hydrology.gov.np/#/basin/183?_k=ijwf2r'\n",
    "url = 'https://bipadportal.gov.np/realtime'"
   ]
  },
  {
   "cell_type": "code",
   "execution_count": 3,
   "id": "dbcb3568",
   "metadata": {},
   "outputs": [
    {
     "name": "stderr",
     "output_type": "stream",
     "text": [
      "C:\\Users\\mylif\\AppData\\Local\\Temp\\ipykernel_15420\\878738723.py:1: DeprecationWarning: executable_path has been deprecated, please pass in a Service object\n",
      "  driver = webdriver.Chrome(executable_path='c:/chromedriver.exe')\n"
     ]
    }
   ],
   "source": [
    "driver = webdriver.Chrome(executable_path='c:/chromedriver.exe')\n",
    "driver.get(url)\n",
    "driver.implicitly_wait(5)"
   ]
  },
  {
   "cell_type": "code",
   "execution_count": 9,
   "id": "f8e7aef6",
   "metadata": {},
   "outputs": [],
   "source": [
    "soup = BeautifulSoup(driver.page_source, 'lxml')"
   ]
  },
  {
   "cell_type": "code",
   "execution_count": 10,
   "id": "69f347e9",
   "metadata": {},
   "outputs": [],
   "source": [
    "tables = soup.find_all('table')"
   ]
  },
  {
   "cell_type": "code",
   "execution_count": 11,
   "id": "36f25536",
   "metadata": {},
   "outputs": [],
   "source": [
    "dfs = pd.read_html(str(tables))"
   ]
  },
  {
   "cell_type": "code",
   "execution_count": 12,
   "id": "237bfd55",
   "metadata": {},
   "outputs": [
    {
     "name": "stdout",
     "output_type": "stream",
     "text": [
      "[          Basin      Station Name        Date      Time Rainfall  \\\n",
      "0         Koshi           Singati  2022-03-09  09:15:39        -   \n",
      "1       Bagmati          Nagarkot  2022-03-09  09:15:33        -   \n",
      "2         Koshi      Dharan_Bazar  2022-03-09  09:15:21        -   \n",
      "3         Babai  Babai at Chepang  2022-03-09  09:15:14        -   \n",
      "4      Narayani           Syangja  2022-03-09  09:15:40        -   \n",
      "..          ...               ...         ...       ...      ...   \n",
      "204       Koshi        Barmajhiya  2022-03-09  09:15:15        -   \n",
      "205    Narayani         Dedh Gaun  2022-03-09  09:15:20        -   \n",
      "206       Koshi  Manthali Airport  2022-03-09  09:15:33        -   \n",
      "207     Karnali        Khanikhola  2022-03-09  09:15:29        -   \n",
      "208  West Rapti             Sikta  2022-03-09  09:15:38        -   \n",
      "\n",
      "                  Status  \n",
      "0    BELOW WARNING LEVEL  \n",
      "1    BELOW WARNING LEVEL  \n",
      "2    BELOW WARNING LEVEL  \n",
      "3    BELOW WARNING LEVEL  \n",
      "4    BELOW WARNING LEVEL  \n",
      "..                   ...  \n",
      "204  BELOW WARNING LEVEL  \n",
      "205  BELOW WARNING LEVEL  \n",
      "206  BELOW WARNING LEVEL  \n",
      "207  BELOW WARNING LEVEL  \n",
      "208  BELOW WARNING LEVEL  \n",
      "\n",
      "[209 rows x 6 columns]]\n"
     ]
    }
   ],
   "source": [
    "print(dfs)"
   ]
  },
  {
   "cell_type": "code",
   "execution_count": 21,
   "id": "45645923",
   "metadata": {},
   "outputs": [
    {
     "name": "stdout",
     "output_type": "stream",
     "text": [
      "          Basin      Station Name        Date      Time Rainfall  \\\n",
      "0         Koshi           Singati  2022-03-09  09:15:39        -   \n",
      "1       Bagmati          Nagarkot  2022-03-09  09:15:33        -   \n",
      "2         Koshi      Dharan_Bazar  2022-03-09  09:15:21        -   \n",
      "3         Babai  Babai at Chepang  2022-03-09  09:15:14        -   \n",
      "4      Narayani           Syangja  2022-03-09  09:15:40        -   \n",
      "..          ...               ...         ...       ...      ...   \n",
      "204       Koshi        Barmajhiya  2022-03-09  09:15:15        -   \n",
      "205    Narayani         Dedh Gaun  2022-03-09  09:15:20        -   \n",
      "206       Koshi  Manthali Airport  2022-03-09  09:15:33        -   \n",
      "207     Karnali        Khanikhola  2022-03-09  09:15:29        -   \n",
      "208  West Rapti             Sikta  2022-03-09  09:15:38        -   \n",
      "\n",
      "                  Status  \n",
      "0    BELOW WARNING LEVEL  \n",
      "1    BELOW WARNING LEVEL  \n",
      "2    BELOW WARNING LEVEL  \n",
      "3    BELOW WARNING LEVEL  \n",
      "4    BELOW WARNING LEVEL  \n",
      "..                   ...  \n",
      "204  BELOW WARNING LEVEL  \n",
      "205  BELOW WARNING LEVEL  \n",
      "206  BELOW WARNING LEVEL  \n",
      "207  BELOW WARNING LEVEL  \n",
      "208  BELOW WARNING LEVEL  \n",
      "\n",
      "[209 rows x 6 columns]\n"
     ]
    }
   ],
   "source": [
    "print(dfs[0])"
   ]
  },
  {
   "cell_type": "code",
   "execution_count": 54,
   "id": "5ade9a2c",
   "metadata": {},
   "outputs": [
    {
     "name": "stdout",
     "output_type": "stream",
     "text": [
      "1.594 m\n"
     ]
    }
   ],
   "source": [
    "print(dfs[1][1][1])"
   ]
  },
  {
   "cell_type": "code",
   "execution_count": 56,
   "id": "491c2f7d",
   "metadata": {},
   "outputs": [
    {
     "name": "stdout",
     "output_type": "stream",
     "text": [
      "STEADY\n"
     ]
    }
   ],
   "source": [
    "print(dfs[1][1][2])"
   ]
  },
  {
   "cell_type": "code",
   "execution_count": 57,
   "id": "3c22e70e",
   "metadata": {},
   "outputs": [
    {
     "name": "stdout",
     "output_type": "stream",
     "text": [
      "BELOW WARNING LEVEL\n"
     ]
    }
   ],
   "source": [
    "print(dfs[1][1][3])"
   ]
  },
  {
   "cell_type": "code",
   "execution_count": null,
   "id": "3716efd7",
   "metadata": {},
   "outputs": [],
   "source": []
  }
 ],
 "metadata": {
  "kernelspec": {
   "display_name": "Python 3 (ipykernel)",
   "language": "python",
   "name": "python3"
  },
  "language_info": {
   "codemirror_mode": {
    "name": "ipython",
    "version": 3
   },
   "file_extension": ".py",
   "mimetype": "text/x-python",
   "name": "python",
   "nbconvert_exporter": "python",
   "pygments_lexer": "ipython3",
   "version": "3.8.5"
  }
 },
 "nbformat": 4,
 "nbformat_minor": 5
}
