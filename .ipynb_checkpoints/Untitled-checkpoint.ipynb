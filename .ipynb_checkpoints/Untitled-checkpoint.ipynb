{
 "cells": [
  {
   "cell_type": "code",
   "execution_count": 22,
   "id": "aef3549f",
   "metadata": {},
   "outputs": [],
   "source": [
    "from requests_html import HTMLSession\n",
    "session = HTMLSession()\n"
   ]
  },
  {
   "cell_type": "code",
   "execution_count": 23,
   "id": "3338fb0e",
   "metadata": {},
   "outputs": [],
   "source": [
    "url = 'http://www.hydrology.gov.np/#/river_watch'\n",
    "response = session.get(url)"
   ]
  },
  {
   "cell_type": "code",
   "execution_count": 26,
   "id": "c599cf4e",
   "metadata": {},
   "outputs": [],
   "source": [
    "container = response.html.find(\"#user-repositories-list\", first=True)\n",
    "list = container.find(\"li\")"
   ]
  },
  {
   "cell_type": "code",
   "execution_count": 31,
   "id": "5c8c1ae3",
   "metadata": {},
   "outputs": [],
   "source": [
    "sheet = [[\"Name\", \"Language\"]]"
   ]
  },
  {
   "cell_type": "code",
   "execution_count": 32,
   "id": "f0bc4e1b",
   "metadata": {},
   "outputs": [],
   "source": [
    "for item in list:\n",
    "    elements = item.text.split(\"\\n\")\n",
    "    name = elements[0]\n",
    "    lang = elements[2]\n",
    "    sheet.append([name, lang])"
   ]
  },
  {
   "cell_type": "code",
   "execution_count": 33,
   "id": "e47ae1ac",
   "metadata": {},
   "outputs": [
    {
     "name": "stdout",
     "output_type": "stream",
     "text": [
      "<Element 'li' class=('col-12', 'd-flex', 'width-full', 'py-4', 'border-bottom', 'color-border-muted', 'public', 'source') itemprop='owns' itemscope='' itemtype='http://schema.org/Code'>\n"
     ]
    }
   ],
   "source": [
    "print(item)"
   ]
  },
  {
   "cell_type": "code",
   "execution_count": 34,
   "id": "72760389",
   "metadata": {},
   "outputs": [
    {
     "name": "stdout",
     "output_type": "stream",
     "text": [
      "[['Name', 'Language'], ['production_chain_linker Public', 'Python'], ['python_series_visualizer Public', 'Python'], ['PamphletMaker Public', 'Python'], ['davidkowalk.github.io Public', 'Updated'], ['DAX_regression_fitting Public', 'C'], ['twitter_geolocate Public', 'Python'], ['Kalaha Public', '1'], ['python_calculator Public', 'Python'], ['tabbed_minecraft_scripting Public', 'Python'], ['chain-reaction-ai Public', 'ai opponent for the game chain reaction'], ['c_gradient_descent Public', 'C'], ['stonecutter-cycle-generator Public', 'Python'], ['discord-ip-bot Public', 'Shell'], ['plant_dashboard Public', 'HTML'], ['SureBet Public', 'Python'], ['c_linked_list_demo Public', 'BSD 3-Clause \"New\" or \"Revised\" License Updated'], ['WeatherScraper Public', 'Python'], ['mcfunction-novum Public', \"Atom language for minecraft's function files\"], ['clearbit-autocomplete Public', 'Python'], ['StockScraper Public', 'Python'], ['StalinSort Public', 'Python'], ['ca_engine Public', 'Python'], ['OnlineChecker Public', 'Batchfile'], ['UkGov-Company-Harvest Public', 'Python'], ['FunctionSynthesizer Public', 'Python'], ['erf-approximation Public', 'Python'], ['GitHub_DataScraper Public', 'Python'], ['CommaSeperatedPython Public', 'Python'], ['erf_approximation-multiple Public', 'Python'], ['Doppelkopf_Analyser Public', 'Python']]\n"
     ]
    }
   ],
   "source": [
    "print(sheet)"
   ]
  },
  {
   "cell_type": "code",
   "execution_count": null,
   "id": "0ecc6e50",
   "metadata": {},
   "outputs": [],
   "source": []
  }
 ],
 "metadata": {
  "kernelspec": {
   "display_name": "Python 3 (ipykernel)",
   "language": "python",
   "name": "python3"
  },
  "language_info": {
   "codemirror_mode": {
    "name": "ipython",
    "version": 3
   },
   "file_extension": ".py",
   "mimetype": "text/x-python",
   "name": "python",
   "nbconvert_exporter": "python",
   "pygments_lexer": "ipython3",
   "version": "3.8.5"
  }
 },
 "nbformat": 4,
 "nbformat_minor": 5
}
