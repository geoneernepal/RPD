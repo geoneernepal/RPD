{
 "cells": [
  {
   "cell_type": "code",
   "execution_count": 72,
   "id": "961f4fcb",
   "metadata": {},
   "outputs": [],
   "source": [
    "from requests_html import HTMLSession\n",
    "session = HTMLSession()\n"
   ]
  },
  {
   "cell_type": "code",
   "execution_count": 82,
   "id": "c352cd35",
   "metadata": {},
   "outputs": [
    {
     "data": {
      "text/plain": [
       "<Response [200]>"
      ]
     },
     "execution_count": 82,
     "metadata": {},
     "output_type": "execute_result"
    }
   ],
   "source": [
    "url = 'http://hydrology.gov.np/#/basin/183'\n",
    "response = session.get(url)\n",
    "response"
   ]
  },
  {
   "cell_type": "code",
   "execution_count": 87,
   "id": "6a0700b4",
   "metadata": {},
   "outputs": [
    {
     "ename": "AttributeError",
     "evalue": "'NoneType' object has no attribute 'text'",
     "output_type": "error",
     "traceback": [
      "\u001b[1;31m---------------------------------------------------------------------------\u001b[0m",
      "\u001b[1;31mAttributeError\u001b[0m                            Traceback (most recent call last)",
      "Input \u001b[1;32mIn [87]\u001b[0m, in \u001b[0;36m<cell line: 1>\u001b[1;34m()\u001b[0m\n\u001b[1;32m----> 1\u001b[0m container \u001b[38;5;241m=\u001b[39m \u001b[43mresponse\u001b[49m\u001b[38;5;241;43m.\u001b[39;49m\u001b[43mhtml\u001b[49m\u001b[38;5;241;43m.\u001b[39;49m\u001b[43mfind\u001b[49m\u001b[43m(\u001b[49m\u001b[38;5;124;43m'\u001b[39;49m\u001b[38;5;124;43m.watch-table\u001b[39;49m\u001b[38;5;124;43m'\u001b[39;49m\u001b[43m,\u001b[49m\u001b[43m \u001b[49m\u001b[43mfirst\u001b[49m\u001b[38;5;241;43m=\u001b[39;49m\u001b[38;5;28;43;01mTrue\u001b[39;49;00m\u001b[43m)\u001b[49m\u001b[38;5;241;43m.\u001b[39;49m\u001b[43mtext\u001b[49m\n\u001b[0;32m      2\u001b[0m \u001b[38;5;28mprint\u001b[39m(container)\n",
      "\u001b[1;31mAttributeError\u001b[0m: 'NoneType' object has no attribute 'text'"
     ]
    }
   ],
   "source": [
    "container = response.html.find('.watch-table', first=True).text\n",
    "print(container)\n",
    "# list = container.find(\"li\")"
   ]
  },
  {
   "cell_type": "code",
   "execution_count": 86,
   "id": "b99bcf81",
   "metadata": {},
   "outputs": [],
   "source": [
    "sheet = [[\"Name\", \"Language\"]]"
   ]
  },
  {
   "cell_type": "code",
   "execution_count": 32,
   "id": "2ff7f937",
   "metadata": {},
   "outputs": [],
   "source": [
    "for item in list:\n",
    "    elements = item.text.split(\"\\n\")\n",
    "    name = elements[0]\n",
    "    lang = elements[2]\n",
    "    sheet.append([name, lang])"
   ]
  },
  {
   "cell_type": "code",
   "execution_count": 33,
   "id": "1bc83e6e",
   "metadata": {},
   "outputs": [
    {
     "name": "stdout",
     "output_type": "stream",
     "text": [
      "<Element 'li' class=('col-12', 'd-flex', 'width-full', 'py-4', 'border-bottom', 'color-border-muted', 'public', 'source') itemprop='owns' itemscope='' itemtype='http://schema.org/Code'>\n"
     ]
    }
   ],
   "source": [
    "print(item)"
   ]
  },
  {
   "cell_type": "code",
   "execution_count": 34,
   "id": "484744e2",
   "metadata": {},
   "outputs": [
    {
     "name": "stdout",
     "output_type": "stream",
     "text": [
      "[['Name', 'Language'], ['production_chain_linker Public', 'Python'], ['python_series_visualizer Public', 'Python'], ['PamphletMaker Public', 'Python'], ['davidkowalk.github.io Public', 'Updated'], ['DAX_regression_fitting Public', 'C'], ['twitter_geolocate Public', 'Python'], ['Kalaha Public', '1'], ['python_calculator Public', 'Python'], ['tabbed_minecraft_scripting Public', 'Python'], ['chain-reaction-ai Public', 'ai opponent for the game chain reaction'], ['c_gradient_descent Public', 'C'], ['stonecutter-cycle-generator Public', 'Python'], ['discord-ip-bot Public', 'Shell'], ['plant_dashboard Public', 'HTML'], ['SureBet Public', 'Python'], ['c_linked_list_demo Public', 'BSD 3-Clause \"New\" or \"Revised\" License Updated'], ['WeatherScraper Public', 'Python'], ['mcfunction-novum Public', \"Atom language for minecraft's function files\"], ['clearbit-autocomplete Public', 'Python'], ['StockScraper Public', 'Python'], ['StalinSort Public', 'Python'], ['ca_engine Public', 'Python'], ['OnlineChecker Public', 'Batchfile'], ['UkGov-Company-Harvest Public', 'Python'], ['FunctionSynthesizer Public', 'Python'], ['erf-approximation Public', 'Python'], ['GitHub_DataScraper Public', 'Python'], ['CommaSeperatedPython Public', 'Python'], ['erf_approximation-multiple Public', 'Python'], ['Doppelkopf_Analyser Public', 'Python']]\n"
     ]
    }
   ],
   "source": [
    "print(sheet)"
   ]
  },
  {
   "cell_type": "code",
   "execution_count": null,
   "id": "ff0f6e41",
   "metadata": {},
   "outputs": [],
   "source": []
  }
 ],
 "metadata": {
  "kernelspec": {
   "display_name": "Python 3 (ipykernel)",
   "language": "python",
   "name": "python3"
  },
  "language_info": {
   "codemirror_mode": {
    "name": "ipython",
    "version": 3
   },
   "file_extension": ".py",
   "mimetype": "text/x-python",
   "name": "python",
   "nbconvert_exporter": "python",
   "pygments_lexer": "ipython3",
   "version": "3.8.5"
  }
 },
 "nbformat": 4,
 "nbformat_minor": 5
}
